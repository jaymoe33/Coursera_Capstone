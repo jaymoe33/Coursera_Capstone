{
    "cells": [
        {
            "cell_type": "markdown",
            "metadata": {
                "collapsed": true
            },
            "source": "# IBM Data Science Battle of the Neighborhoods "
        },
        {
            "cell_type": "markdown",
            "metadata": {},
            "source": "## Week 1"
        },
        {
            "attachments": {},
            "cell_type": "markdown",
            "metadata": {},
            "source": "### Introduction\nNew York, NY and Los Angeles, CA are the two most populous cities in the United States and each year attract a great number of adults looking to persue their chosen careers in these dynamic and exciting cities. However, the two citites posess two distinct cultural identities. In this project, the cities' neighborhoods and venues will be analyzed to determine similarities and differences that contribute to or refute the idea of these cities separate identities. By comparing the two cities, we will be able to determine the best location for one to relocate to based on their interests and career and life goals. "
        },
        {
            "cell_type": "markdown",
            "metadata": {},
            "source": " "
        },
        {
            "attachments": {},
            "cell_type": "markdown",
            "metadata": {},
            "source": "### Data\nVenue and neighborhood data will be retrieved from Foursquare API, including but not limited to restaurants, local businesses, and entertainment venues and attractions. This data will be used to analyz the number and type of venues in each city and where within the cities they are located in order to "
        },
        {
            "cell_type": "code",
            "execution_count": null,
            "metadata": {},
            "outputs": [],
            "source": ""
        }
    ],
    "metadata": {
        "kernelspec": {
            "display_name": "Python 3.7",
            "language": "python",
            "name": "python3"
        },
        "language_info": {
            "codemirror_mode": {
                "name": "ipython",
                "version": 3
            },
            "file_extension": ".py",
            "mimetype": "text/x-python",
            "name": "python",
            "nbconvert_exporter": "python",
            "pygments_lexer": "ipython3",
            "version": "3.7.9"
        }
    },
    "nbformat": 4,
    "nbformat_minor": 1
}