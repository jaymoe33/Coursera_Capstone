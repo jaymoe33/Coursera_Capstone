{
    "cells": [
        {
            "cell_type": "markdown",
            "metadata": {
                "collapsed": true
            },
            "source": "# IBM Data Science Battle of the Neighborhoods "
        },
        {
            "cell_type": "markdown",
            "metadata": {},
            "source": "## Week 1"
        },
        {
            "attachments": {},
            "cell_type": "markdown",
            "metadata": {},
            "source": "### Introduction\nComparing the venues in New York, NY and Los Angeles, CA and their respective neighborhoods in the United States to find similarities or differences between the two cities."
        },
        {
            "cell_type": "markdown",
            "metadata": {},
            "source": " "
        },
        {
            "attachments": {},
            "cell_type": "markdown",
            "metadata": {},
            "source": "### Data\nVenue and neighborhood data will be retrieved from Foursquare API, including restaurants, businesses, and entertainment venues and attractions. This data will be used to determine what similarities New York and Los Angeles share as a whole, as well as the similarities between respective neighborhoods in each city."
        }
    ],
    "metadata": {
        "kernelspec": {
            "display_name": "Python 3.7",
            "language": "python",
            "name": "python3"
        },
        "language_info": {
            "codemirror_mode": {
                "name": "ipython",
                "version": 3
            },
            "file_extension": ".py",
            "mimetype": "text/x-python",
            "name": "python",
            "nbconvert_exporter": "python",
            "pygments_lexer": "ipython3",
            "version": "3.7.9"
        }
    },
    "nbformat": 4,
    "nbformat_minor": 1
}