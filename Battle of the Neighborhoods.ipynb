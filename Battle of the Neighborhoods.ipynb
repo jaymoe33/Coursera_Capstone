{
    "cells": [
        {
            "cell_type": "markdown",
            "metadata": {
                "collapsed": true
            },
            "source": "# IBM Data Science Battle of the Neighborhoods "
        },
        {
            "cell_type": "markdown",
            "metadata": {},
            "source": "## Week 1"
        },
        {
            "cell_type": "markdown",
            "metadata": {},
            "source": "### Introduction\nNew York, NY and Los Angeles, CA are the two most populous cities in the United States and each year attract a great number of adults looking to persue their chosen careers in these dynamic and exciting cities. However, the two citites posess two distinct cultural identities. In this project, the cities' neighborhoods and venues will be analyzed to determine similarities and differences that contribute to or refute the idea of these cities separate identities. By comparing the two cities, we will be able to determine the best location for one to relocate to based on their interests and career and life goals. "
        },
        {
            "cell_type": "markdown",
            "metadata": {},
            "source": " "
        },
        {
            "attachments": {},
            "cell_type": "markdown",
            "metadata": {},
            "source": "### Data\nVenue and neighborhood data will be retrieved from Los Angeles County, CensusReporter, New York University, Baruch College, and Foursquare, including but not limited to city population and demographics, restaurants, local businesses, and entertainment venues and attractions. This data will be used to analyze the number and type of venues in each city and where within the cities they are located in order to most accurately compare New York and Los Angeles as potential location for one to live.\n\n\nLos Angeles \u2013 \n1. http://file.lacounty.gov/SDSInter/lac/1031552_MasterZipCodes.pdf\n2. https://censusreporter.org/profiles/16000US0644000-los-angeles-ca/ \n\n\nNew York City \u2013 \n1. https://geo.nyu.edu/catalog/nyu_2451_34572?cm_mmc=Email_Newsletter-_-Developer_Ed%2BTech-_-WW_WW-_-SkillsNetwork-Courses-IBMDeveloperSkillsNetwork-DS0701EN-SkillsNetwork-21253531&cm_mmca1=000026UJ&cm_mmca2=10006555&cm_mmca3=M12345678&cvosrc=email.Newsletter.M12345678&cvo_campaign=000026UJ&cm_mmc=Email_Newsletter-_-Developer_Ed%2BTech-_-WW_WW-_-SkillsNetwork-Courses-IBMDeveloperSkillsNetwork-DS0701EN-SkillsNetwork-21253531&cm_mmca1=000026UJ&cm_mmca2=10006555&cm_mmca3=M12345678&cvosrc=email.Newsletter.M12345678&cvo_campaign=000026UJ\n2. https://www.baruch.cuny.edu/nycdata/population-geography/age_distribution.htm \n\n\nFoursquare \u2013 \n1. Neighborhoods\n2. Neighborhood latitude and longitude\n3. Venue names\n4. Venue latitude and longitude\n5. Venue categories"
        },
        {
            "cell_type": "code",
            "execution_count": null,
            "metadata": {},
            "outputs": [],
            "source": ""
        }
    ],
    "metadata": {
        "kernelspec": {
            "display_name": "Python 3.7",
            "language": "python",
            "name": "python3"
        },
        "language_info": {
            "codemirror_mode": {
                "name": "ipython",
                "version": 3
            },
            "file_extension": ".py",
            "mimetype": "text/x-python",
            "name": "python",
            "nbconvert_exporter": "python",
            "pygments_lexer": "ipython3",
            "version": "3.7.9"
        }
    },
    "nbformat": 4,
    "nbformat_minor": 1
}